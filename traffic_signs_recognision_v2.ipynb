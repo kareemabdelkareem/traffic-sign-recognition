{
 "cells": [
  {
   "cell_type": "code",
   "execution_count": 10,
   "id": "68f96427",
   "metadata": {},
   "outputs": [],
   "source": [
    "import numpy as np\n",
    "import matplotlib.pyplot as plt\n",
    "%matplotlib inline\n",
    "import torch\n",
    "from sklearn.model_selection import train_test_split\n",
    "from torchvision import transforms, datasets"
   ]
  },
  {
   "cell_type": "code",
   "execution_count": 5,
   "id": "a07818a9",
   "metadata": {},
   "outputs": [
    {
     "name": "stdout",
     "output_type": "stream",
     "text": [
      "answer.csv\n",
      "sample_submission.csv\n",
      "test\n",
      "train\n"
     ]
    }
   ],
   "source": [
    "!ls GTSRB_Challenge"
   ]
  },
  {
   "cell_type": "code",
   "execution_count": 6,
   "id": "1c1be799",
   "metadata": {},
   "outputs": [],
   "source": [
    "data_path = 'GTSRB_Challenge/'\n",
    "train_path = data_path+'train'\n",
    "test_path = data_path+'test'"
   ]
  },
  {
   "cell_type": "code",
   "execution_count": 21,
   "id": "e99fdf94",
   "metadata": {},
   "outputs": [],
   "source": [
    "# TODO: Define your transforms for the training, validation, and testing sets\n",
    "train_val_transforms = transforms.Compose([transforms.RandomRotation(30),\n",
    "                                       transforms.RandomResizedCrop(224),\n",
    "                                       transforms.RandomHorizontalFlip(),\n",
    "                                       transforms.ToTensor(),\n",
    "                                       transforms.Normalize([0.485, 0.456, 0.406], \n",
    "                                                            [0.229, 0.224, 0.225])   \n",
    "                                        ])\n",
    "\n",
    "# TODO: Load the datasets with ImageFolder\n",
    "train_val_datasets = datasets.ImageFolder(train_path, transform=train_val_transforms)"
   ]
  },
  {
   "cell_type": "code",
   "execution_count": 22,
   "id": "23e83a46",
   "metadata": {},
   "outputs": [],
   "source": [
    "x, y = next(iter(train_val_datasets))"
   ]
  },
  {
   "cell_type": "code",
   "execution_count": null,
   "id": "c646670c",
   "metadata": {},
   "outputs": [],
   "source": []
  }
 ],
 "metadata": {
  "kernelspec": {
   "display_name": "Python 3",
   "language": "python",
   "name": "python3"
  },
  "language_info": {
   "codemirror_mode": {
    "name": "ipython",
    "version": 3
   },
   "file_extension": ".py",
   "mimetype": "text/x-python",
   "name": "python",
   "nbconvert_exporter": "python",
   "pygments_lexer": "ipython3",
   "version": "3.6.13"
  }
 },
 "nbformat": 4,
 "nbformat_minor": 5
}
